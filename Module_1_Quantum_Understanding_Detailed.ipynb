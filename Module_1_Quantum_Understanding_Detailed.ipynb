{
 "cells": [
  {
   "cell_type": "markdown",
   "id": "22c0f347",
   "metadata": {},
   "source": [
    "# Module 1 — Quantum Computing Understanding (Advanced Labs)\n",
    "\n",
    "**Purpose:** Build deep intuition about qubits, superposition, interference, entanglement, teleportation, and state visualization. This notebook contains step-by-step explanations, runnable code (Qiskit), and exercises for each lab.\n",
    "\n",
    "**Pre-requisites:** Python 3.9+, install dependencies:\n",
    "```\n",
    "pip install qiskit qiskit-aer matplotlib numpy\n",
    "```\n"
   ]
  },
  {
   "cell_type": "code",
   "execution_count": 1,
   "id": "a539a8ad-3e20-451f-b053-6598c5b0aa22",
   "metadata": {},
   "outputs": [
    {
     "name": "stdout",
     "output_type": "stream",
     "text": [
      "Collecting qiskit\n",
      "  Downloading qiskit-2.2.1-cp39-abi3-manylinux2014_x86_64.manylinux_2_17_x86_64.whl.metadata (12 kB)\n",
      "Collecting qiskit-aer\n",
      "  Downloading qiskit_aer-0.17.2-cp312-cp312-manylinux_2_17_x86_64.manylinux2014_x86_64.whl.metadata (8.3 kB)\n",
      "Collecting matplotlib\n",
      "  Downloading matplotlib-3.10.7-cp312-cp312-manylinux2014_x86_64.manylinux_2_17_x86_64.whl.metadata (11 kB)\n",
      "Collecting numpy\n",
      "  Downloading numpy-2.3.3-cp312-cp312-manylinux_2_27_x86_64.manylinux_2_28_x86_64.whl.metadata (62 kB)\n",
      "\u001b[2K     \u001b[90m━━━━━━━━━━━━━━━━━━━━━━━━━━━━━━━━━━━━━━━━\u001b[0m \u001b[32m62.1/62.1 kB\u001b[0m \u001b[31m6.4 MB/s\u001b[0m eta \u001b[36m0:00:00\u001b[0m\n",
      "\u001b[?25hCollecting rustworkx>=0.15.0 (from qiskit)\n",
      "  Downloading rustworkx-0.17.1-cp39-abi3-manylinux_2_17_x86_64.manylinux2014_x86_64.whl.metadata (10 kB)\n",
      "Collecting scipy>=1.5 (from qiskit)\n",
      "  Downloading scipy-1.16.2-cp312-cp312-manylinux2014_x86_64.manylinux_2_17_x86_64.whl.metadata (62 kB)\n",
      "\u001b[2K     \u001b[90m━━━━━━━━━━━━━━━━━━━━━━━━━━━━━━━━━━━━━━━━\u001b[0m \u001b[32m62.0/62.0 kB\u001b[0m \u001b[31m9.6 MB/s\u001b[0m eta \u001b[36m0:00:00\u001b[0m\n",
      "\u001b[?25hCollecting dill>=0.3 (from qiskit)\n",
      "  Downloading dill-0.4.0-py3-none-any.whl.metadata (10 kB)\n",
      "Collecting stevedore>=3.0.0 (from qiskit)\n",
      "  Downloading stevedore-5.5.0-py3-none-any.whl.metadata (2.2 kB)\n",
      "Requirement already satisfied: typing-extensions in /home/ubuntu/quantum-ex/my_env/lib/python3.12/site-packages (from qiskit) (4.15.0)\n",
      "Requirement already satisfied: psutil>=5 in /home/ubuntu/quantum-ex/my_env/lib/python3.12/site-packages (from qiskit-aer) (7.1.0)\n",
      "Requirement already satisfied: python-dateutil>=2.8.0 in /home/ubuntu/quantum-ex/my_env/lib/python3.12/site-packages (from qiskit-aer) (2.9.0.post0)\n",
      "Collecting contourpy>=1.0.1 (from matplotlib)\n",
      "  Downloading contourpy-1.3.3-cp312-cp312-manylinux_2_27_x86_64.manylinux_2_28_x86_64.whl.metadata (5.5 kB)\n",
      "Collecting cycler>=0.10 (from matplotlib)\n",
      "  Downloading cycler-0.12.1-py3-none-any.whl.metadata (3.8 kB)\n",
      "Collecting fonttools>=4.22.0 (from matplotlib)\n",
      "  Downloading fonttools-4.60.1-cp312-cp312-manylinux1_x86_64.manylinux2014_x86_64.manylinux_2_17_x86_64.manylinux_2_5_x86_64.whl.metadata (112 kB)\n",
      "\u001b[2K     \u001b[90m━━━━━━━━━━━━━━━━━━━━━━━━━━━━━━━━━━━━━━\u001b[0m \u001b[32m112.3/112.3 kB\u001b[0m \u001b[31m19.8 MB/s\u001b[0m eta \u001b[36m0:00:00\u001b[0m\n",
      "\u001b[?25hCollecting kiwisolver>=1.3.1 (from matplotlib)\n",
      "  Downloading kiwisolver-1.4.9-cp312-cp312-manylinux2014_x86_64.manylinux_2_17_x86_64.whl.metadata (6.3 kB)\n",
      "Requirement already satisfied: packaging>=20.0 in /home/ubuntu/quantum-ex/my_env/lib/python3.12/site-packages (from matplotlib) (25.0)\n",
      "Collecting pillow>=8 (from matplotlib)\n",
      "  Downloading pillow-11.3.0-cp312-cp312-manylinux_2_27_x86_64.manylinux_2_28_x86_64.whl.metadata (9.0 kB)\n",
      "Collecting pyparsing>=3 (from matplotlib)\n",
      "  Downloading pyparsing-3.2.5-py3-none-any.whl.metadata (5.0 kB)\n",
      "Requirement already satisfied: six>=1.5 in /home/ubuntu/quantum-ex/my_env/lib/python3.12/site-packages (from python-dateutil>=2.8.0->qiskit-aer) (1.17.0)\n",
      "Downloading qiskit-2.2.1-cp39-abi3-manylinux2014_x86_64.manylinux_2_17_x86_64.whl (8.0 MB)\n",
      "\u001b[2K   \u001b[90m━━━━━━━━━━━━━━━━━━━━━━━━━━━━━━━━━━━━━━━━\u001b[0m \u001b[32m8.0/8.0 MB\u001b[0m \u001b[31m135.2 MB/s\u001b[0m eta \u001b[36m0:00:00\u001b[0ma \u001b[36m0:00:01\u001b[0m\n",
      "\u001b[?25hDownloading qiskit_aer-0.17.2-cp312-cp312-manylinux_2_17_x86_64.manylinux2014_x86_64.whl (12.4 MB)\n",
      "\u001b[2K   \u001b[90m━━━━━━━━━━━━━━━━━━━━━━━━━━━━━━━━━━━━━━━━\u001b[0m \u001b[32m12.4/12.4 MB\u001b[0m \u001b[31m138.4 MB/s\u001b[0m eta \u001b[36m0:00:00\u001b[0m00:01\u001b[0m0:01\u001b[0m\n",
      "\u001b[?25hDownloading matplotlib-3.10.7-cp312-cp312-manylinux2014_x86_64.manylinux_2_17_x86_64.whl (8.7 MB)\n",
      "\u001b[2K   \u001b[90m━━━━━━━━━━━━━━━━━━━━━━━━━━━━━━━━━━━━━━━━\u001b[0m \u001b[32m8.7/8.7 MB\u001b[0m \u001b[31m145.1 MB/s\u001b[0m eta \u001b[36m0:00:00\u001b[0ma \u001b[36m0:00:01\u001b[0m\n",
      "\u001b[?25hDownloading numpy-2.3.3-cp312-cp312-manylinux_2_27_x86_64.manylinux_2_28_x86_64.whl (16.6 MB)\n",
      "\u001b[2K   \u001b[90m━━━━━━━━━━━━━━━━━━━━━━━━━━━━━━━━━━━━━━━━\u001b[0m \u001b[32m16.6/16.6 MB\u001b[0m \u001b[31m113.3 MB/s\u001b[0m eta \u001b[36m0:00:00\u001b[0m00:01\u001b[0m00:01\u001b[0m\n",
      "\u001b[?25hDownloading contourpy-1.3.3-cp312-cp312-manylinux_2_27_x86_64.manylinux_2_28_x86_64.whl (362 kB)\n",
      "\u001b[2K   \u001b[90m━━━━━━━━━━━━━━━━━━━━━━━━━━━━━━━━━━━━━━━━\u001b[0m \u001b[32m362.6/362.6 kB\u001b[0m \u001b[31m57.7 MB/s\u001b[0m eta \u001b[36m0:00:00\u001b[0m\n",
      "\u001b[?25hDownloading cycler-0.12.1-py3-none-any.whl (8.3 kB)\n",
      "Downloading dill-0.4.0-py3-none-any.whl (119 kB)\n",
      "\u001b[2K   \u001b[90m━━━━━━━━━━━━━━━━━━━━━━━━━━━━━━━━━━━━━━━━\u001b[0m \u001b[32m119.7/119.7 kB\u001b[0m \u001b[31m20.6 MB/s\u001b[0m eta \u001b[36m0:00:00\u001b[0m\n",
      "\u001b[?25hDownloading fonttools-4.60.1-cp312-cp312-manylinux1_x86_64.manylinux2014_x86_64.manylinux_2_17_x86_64.manylinux_2_5_x86_64.whl (4.9 MB)\n",
      "\u001b[2K   \u001b[90m━━━━━━━━━━━━━━━━━━━━━━━━━━━━━━━━━━━━━━━━\u001b[0m \u001b[32m4.9/4.9 MB\u001b[0m \u001b[31m175.9 MB/s\u001b[0m eta \u001b[36m0:00:00\u001b[0m\n",
      "\u001b[?25hDownloading kiwisolver-1.4.9-cp312-cp312-manylinux2014_x86_64.manylinux_2_17_x86_64.whl (1.5 MB)\n",
      "\u001b[2K   \u001b[90m━━━━━━━━━━━━━━━━━━━━━━━━━━━━━━━━━━━━━━━━\u001b[0m \u001b[32m1.5/1.5 MB\u001b[0m \u001b[31m119.6 MB/s\u001b[0m eta \u001b[36m0:00:00\u001b[0m\n",
      "\u001b[?25hDownloading pillow-11.3.0-cp312-cp312-manylinux_2_27_x86_64.manylinux_2_28_x86_64.whl (6.6 MB)\n",
      "\u001b[2K   \u001b[90m━━━━━━━━━━━━━━━━━━━━━━━━━━━━━━━━━━━━━━━━\u001b[0m \u001b[32m6.6/6.6 MB\u001b[0m \u001b[31m150.4 MB/s\u001b[0m eta \u001b[36m0:00:00\u001b[0m00:01\u001b[0m\n",
      "\u001b[?25hDownloading pyparsing-3.2.5-py3-none-any.whl (113 kB)\n",
      "\u001b[2K   \u001b[90m━━━━━━━━━━━━━━━━━━━━━━━━━━━━━━━━━━━━━━━━\u001b[0m \u001b[32m113.9/113.9 kB\u001b[0m \u001b[31m11.2 MB/s\u001b[0m eta \u001b[36m0:00:00\u001b[0m\n",
      "\u001b[?25hDownloading rustworkx-0.17.1-cp39-abi3-manylinux_2_17_x86_64.manylinux2014_x86_64.whl (2.2 MB)\n",
      "\u001b[2K   \u001b[90m━━━━━━━━━━━━━━━━━━━━━━━━━━━━━━━━━━━━━━━━\u001b[0m \u001b[32m2.2/2.2 MB\u001b[0m \u001b[31m132.1 MB/s\u001b[0m eta \u001b[36m0:00:00\u001b[0m\n",
      "\u001b[?25hDownloading scipy-1.16.2-cp312-cp312-manylinux2014_x86_64.manylinux_2_17_x86_64.whl (35.7 MB)\n",
      "\u001b[2K   \u001b[90m━━━━━━━━━━━━━━━━━━━━━━━━━━━━━━━━━━━━━━━━\u001b[0m \u001b[32m35.7/35.7 MB\u001b[0m \u001b[31m78.5 MB/s\u001b[0m eta \u001b[36m0:00:00\u001b[0m:00:01\u001b[0m00:01\u001b[0m\n",
      "\u001b[?25hDownloading stevedore-5.5.0-py3-none-any.whl (49 kB)\n",
      "\u001b[2K   \u001b[90m━━━━━━━━━━━━━━━━━━━━━━━━━━━━━━━━━━━━━━━━\u001b[0m \u001b[32m49.5/49.5 kB\u001b[0m \u001b[31m7.8 MB/s\u001b[0m eta \u001b[36m0:00:00\u001b[0m\n",
      "\u001b[?25hInstalling collected packages: stevedore, pyparsing, pillow, numpy, kiwisolver, fonttools, dill, cycler, scipy, rustworkx, contourpy, qiskit, matplotlib, qiskit-aer\n",
      "Successfully installed contourpy-1.3.3 cycler-0.12.1 dill-0.4.0 fonttools-4.60.1 kiwisolver-1.4.9 matplotlib-3.10.7 numpy-2.3.3 pillow-11.3.0 pyparsing-3.2.5 qiskit-2.2.1 qiskit-aer-0.17.2 rustworkx-0.17.1 scipy-1.16.2 stevedore-5.5.0\n",
      "Note: you may need to restart the kernel to use updated packages.\n"
     ]
    }
   ],
   "source": [
    "pip install qiskit qiskit-aer matplotlib numpy"
   ]
  },
  {
   "cell_type": "markdown",
   "id": "7e5ebf78",
   "metadata": {},
   "source": [
    "## Lab 1.1 — Multi-qubit Superposition & Interference\n",
    "\n",
    "**Objective:** Create multi-qubit superposition states, apply phases, and observe interference patterns. We will use a 3-qubit example and step through how phase rotations change measurement probabilities."
   ]
  },
  {
   "cell_type": "code",
   "execution_count": 3,
   "id": "dd1ce07d-47fb-4949-bac5-bf21de94892d",
   "metadata": {},
   "outputs": [
    {
     "name": "stdout",
     "output_type": "stream",
     "text": [
      "Requirement already satisfied: qiskit-aer in /home/ubuntu/quantum-ex/my_env/lib/python3.12/site-packages (0.17.2)\n",
      "Requirement already satisfied: qiskit>=1.1.0 in /home/ubuntu/quantum-ex/my_env/lib/python3.12/site-packages (from qiskit-aer) (2.2.1)\n",
      "Requirement already satisfied: numpy>=1.16.3 in /home/ubuntu/quantum-ex/my_env/lib/python3.12/site-packages (from qiskit-aer) (2.3.3)\n",
      "Requirement already satisfied: scipy>=1.0 in /home/ubuntu/quantum-ex/my_env/lib/python3.12/site-packages (from qiskit-aer) (1.16.2)\n",
      "Requirement already satisfied: psutil>=5 in /home/ubuntu/quantum-ex/my_env/lib/python3.12/site-packages (from qiskit-aer) (7.1.0)\n",
      "Requirement already satisfied: python-dateutil>=2.8.0 in /home/ubuntu/quantum-ex/my_env/lib/python3.12/site-packages (from qiskit-aer) (2.9.0.post0)\n",
      "Requirement already satisfied: six>=1.5 in /home/ubuntu/quantum-ex/my_env/lib/python3.12/site-packages (from python-dateutil>=2.8.0->qiskit-aer) (1.17.0)\n",
      "Requirement already satisfied: rustworkx>=0.15.0 in /home/ubuntu/quantum-ex/my_env/lib/python3.12/site-packages (from qiskit>=1.1.0->qiskit-aer) (0.17.1)\n",
      "Requirement already satisfied: dill>=0.3 in /home/ubuntu/quantum-ex/my_env/lib/python3.12/site-packages (from qiskit>=1.1.0->qiskit-aer) (0.4.0)\n",
      "Requirement already satisfied: stevedore>=3.0.0 in /home/ubuntu/quantum-ex/my_env/lib/python3.12/site-packages (from qiskit>=1.1.0->qiskit-aer) (5.5.0)\n",
      "Requirement already satisfied: typing-extensions in /home/ubuntu/quantum-ex/my_env/lib/python3.12/site-packages (from qiskit>=1.1.0->qiskit-aer) (4.15.0)\n",
      "Note: you may need to restart the kernel to use updated packages.\n"
     ]
    }
   ],
   "source": [
    "pip install qiskit-aer"
   ]
  },
  {
   "cell_type": "markdown",
   "id": "175ea752-fbf5-4587-bd9d-78ff4f42fc2e",
   "metadata": {},
   "source": [
    "## Superposition on 3 Qubits\n",
    "**Explanation:** This block demonstrates superposition. Applying the Hadamard gate to each qubit changes them from definite states to combinations of |0> and |1>. The 3-qubit system enters a superposition of all 8 possible states. Measurement collapses this superposition into classical outcomes, approximately uniformly distributed. This illustrates quantum parallelism."
   ]
  },
  {
   "cell_type": "code",
   "execution_count": 12,
   "id": "7e922377",
   "metadata": {},
   "outputs": [
    {
     "name": "stdout",
     "output_type": "stream",
     "text": [
      "Counts for equal superposition (should be ~uniform):\n",
      "{'110': 250, '001': 274, '100': 233, '010': 253, '000': 274, '011': 229, '111': 267, '101': 268}\n"
     ]
    }
   ],
   "source": [
    "# Lab 1.1 – Equal superposition on 3 qubits\n",
    "from qiskit import QuantumCircuit, transpile\n",
    "from qiskit_aer import AerSimulator\n",
    "from qiskit.visualization import plot_histogram\n",
    "import matplotlib.pyplot as plt\n",
    "import numpy as np\n",
    "\n",
    "#Create a 3-qubit circuit with 3 classical bits\n",
    "qc = QuantumCircuit(3, 3)\n",
    "\n",
    "#Apply Hadamard gates to all qubits → equal superposition\n",
    "qc.h([0, 1, 2])\n",
    "qc.barrier()\n",
    "qc.measure([0, 1, 2], [0, 1, 2])\n",
    "\n",
    "#Initialize the Aer simulator\n",
    "sim = AerSimulator()\n",
    "\n",
    "#Transpile for simulator\n",
    "compiled = transpile(qc, sim)\n",
    "\n",
    "#Run the circuit\n",
    "job = sim.run(compiled, shots=2048)\n",
    "result = job.result()\n",
    "\n",
    "#Get counts and visualize\n",
    "counts = result.get_counts()\n",
    "print(\"Counts for equal superposition (should be ~uniform):\")\n",
    "print(counts)\n",
    "\n",
    "plot_histogram(counts)\n",
    "plt.show()"
   ]
  },
  {
   "cell_type": "markdown",
   "id": "6962e621",
   "metadata": {},
   "source": [
    "### Add phase and re-interfere\n",
    "We will mark a target state by applying a phase (P gate) on some qubits and then apply Hadamards again to see constructive/destructive interference. This is similar to how oracles + diffusion work in algorithms like Grover."
   ]
  },
  {
   "cell_type": "markdown",
   "id": "0ec8e1dd-6694-469d-b01c-77999b805357",
   "metadata": {},
   "source": [
    "## Phase and Interference\n",
    "\n",
    "**Explanation:** A phase shift is applied to one qubit, followed by Hadamard gates. This modifies probability amplitudes, causing constructive and destructive interference. Some outcomes are amplified and others suppressed. Students learn that quantum gates influence amplitudes, not just probabilities."
   ]
  },
  {
   "cell_type": "code",
   "execution_count": 13,
   "id": "9684d339",
   "metadata": {},
   "outputs": [
    {
     "name": "stdout",
     "output_type": "stream",
     "text": [
      "Counts after phase and H (interference):\n",
      "{'100': 2048}\n"
     ]
    }
   ],
   "source": [
    "# Create the circuit\n",
    "qc2 = QuantumCircuit(3, 3)\n",
    "\n",
    "# Prepare equal superposition\n",
    "qc2.h([0, 1, 2])\n",
    "\n",
    "# Apply a phase of π to qubit 2 (like marking |101>)\n",
    "qc2.p(np.pi, 2)\n",
    "\n",
    "# Add barrier and apply H again for interference\n",
    "qc2.barrier()\n",
    "qc2.h([0, 1, 2])\n",
    "\n",
    "# Measure all qubits\n",
    "qc2.measure([0, 1, 2], [0, 1, 2])\n",
    "\n",
    "# Create the Aer simulator\n",
    "sim = AerSimulator()\n",
    "\n",
    "# Transpile for simulator\n",
    "compiled_qc2 = transpile(qc2, sim)\n",
    "\n",
    "# Run and collect results\n",
    "job2 = sim.run(compiled_qc2, shots=2048)\n",
    "counts2 = job2.result().get_counts()\n",
    "\n",
    "# Display results\n",
    "print(\"Counts after phase and H (interference):\")\n",
    "print(counts2)\n",
    "plot_histogram(counts2)\n",
    "plt.show()"
   ]
  },
  {
   "cell_type": "markdown",
   "id": "a928762b",
   "metadata": {},
   "source": [
    "**Notes & exercise:**\n",
    "- Try different phase angles (pi/2, pi/4).\n",
    "- Implement a multi-qubit controlled phase (use mct or controlled-Z constructions) to mark a single basis state exactly.\n",
    "- Observe how probabilities concentrate or cancel."
   ]
  },
  {
   "cell_type": "markdown",
   "id": "a679f8b4",
   "metadata": {},
   "source": [
    "## Lab 1.2 — GHZ vs W states (3-qubit entanglement)\n",
    "\n",
    "**Objective:** Prepare GHZ and W states, compare their measurement statistics and robustness to qubit loss.\n",
    "\n",
    "**Theory summary:**\n",
    "- GHZ: (|000> + |111>)/√2 — strong global correlations; if one qubit is lost, entanglement collapses.\n",
    "- W: (|001> + |010> + |100>)/√3 — remains partially entangled if one qubit is lost.\n"
   ]
  },
  {
   "cell_type": "markdown",
   "id": "3dd2c602-7761-47d5-b091-62732b43804e",
   "metadata": {},
   "source": [
    "## GHZ State Preparation\n",
    "\n",
    "**Explanation:** The GHZ state is a 3-qubit maximally entangled state, producing either all 0s or all 1s on measurement. A Hadamard gate is applied to one qubit, and CNOTs entangle the other two. Measurement of one qubit determines the others, demonstrating entanglement."
   ]
  },
  {
   "cell_type": "code",
   "execution_count": 14,
   "id": "ebbb971a",
   "metadata": {},
   "outputs": [
    {
     "name": "stdout",
     "output_type": "stream",
     "text": [
      "GHZ counts: (expect mostly 000 and 111)\n",
      "{'111': 2049, '000': 2047}\n"
     ]
    }
   ],
   "source": [
    "# GHZ state preparation and measurement – Updated for Qiskit ≥ 1.0\n",
    "\n",
    "from qiskit import QuantumCircuit, transpile\n",
    "from qiskit_aer import AerSimulator\n",
    "from qiskit.visualization import plot_histogram\n",
    "import matplotlib.pyplot as plt\n",
    "\n",
    "# Create a 3-qubit GHZ circuit\n",
    "qc_ghz = QuantumCircuit(3, 3)\n",
    "qc_ghz.h(0)          # Put qubit 0 into superposition\n",
    "qc_ghz.cx(0, 1)      # Entangle qubit 1 with qubit 0\n",
    "qc_ghz.cx(0, 2)      # Entangle qubit 2 with qubit 0\n",
    "qc_ghz.barrier()\n",
    "qc_ghz.measure([0, 1, 2], [0, 1, 2])\n",
    "\n",
    "# Initialize Aer simulator\n",
    "sim = AerSimulator()\n",
    "\n",
    "# Transpile for simulator\n",
    "compiled_ghz = transpile(qc_ghz, sim)\n",
    "\n",
    "# Run simulation\n",
    "job_ghz = sim.run(compiled_ghz, shots=4096)\n",
    "result = job_ghz.result()\n",
    "counts_ghz = result.get_counts()\n",
    "\n",
    "# Display results\n",
    "print(\"GHZ counts: (expect mostly 000 and 111)\")\n",
    "print(counts_ghz)\n",
    "plot_histogram(counts_ghz)\n",
    "plt.show()"
   ]
  },
  {
   "cell_type": "markdown",
   "id": "3b7eea94-7de6-4519-a548-e46cef0ca213",
   "metadata": {},
   "source": [
    "## W-State Approximate Construction\n",
    "\n",
    "**Explanation:** The W-state distributes a single excitation across qubits: |001>, |010>, or |100>. Unlike GHZ, it spreads amplitude evenly, showing different entanglement types. Students learn how entanglement can vary in structure and robustness."
   ]
  },
  {
   "cell_type": "code",
   "execution_count": 15,
   "id": "fbdfbf6c",
   "metadata": {},
   "outputs": [
    {
     "name": "stdout",
     "output_type": "stream",
     "text": [
      "W counts (approx, expect 001, 010, 100):\n",
      "{'001': 1431, '000': 656, '110': 652, '111': 1357}\n"
     ]
    }
   ],
   "source": [
    "# W-state approximate construction and measurement (Qiskit ≥ 1.0)\n",
    "\n",
    "import math\n",
    "from qiskit import QuantumCircuit, transpile\n",
    "from qiskit_aer import AerSimulator\n",
    "from qiskit.visualization import plot_histogram\n",
    "import matplotlib.pyplot as plt\n",
    "\n",
    "# Initialize simulator\n",
    "sim = AerSimulator()\n",
    "\n",
    "# Create 3-qubit circuit\n",
    "qc_w = QuantumCircuit(3, 3)\n",
    "\n",
    "# Known decomposition: rotate then cascade CNOTs to distribute amplitude\n",
    "theta1 = 2 * math.acos(1 / math.sqrt(3))\n",
    "qc_w.ry(theta1, 0)\n",
    "qc_w.cx(0, 1)\n",
    "\n",
    "theta2 = 2 * math.acos(1 / math.sqrt(2))\n",
    "qc_w.ry(theta2, 1)\n",
    "qc_w.cx(1, 2)\n",
    "\n",
    "qc_w.barrier()\n",
    "qc_w.measure([0, 1, 2], [0, 1, 2])\n",
    "\n",
    "# Transpile and run\n",
    "compiled_w = transpile(qc_w, sim)\n",
    "job_w = sim.run(compiled_w, shots=4096)\n",
    "\n",
    "# Get results\n",
    "result = job_w.result()\n",
    "counts_w = result.get_counts()\n",
    "\n",
    "# Display output\n",
    "print(\"W counts (approx, expect 001, 010, 100):\")\n",
    "print(counts_w)\n",
    "plot_histogram(counts_w)\n",
    "plt.show()"
   ]
  },
  {
   "cell_type": "markdown",
   "id": "11ecc443",
   "metadata": {},
   "source": [
    "**Exercise:** Remove one qubit measurement (simulate tracing out) and see how the marginal distribution for the remaining two qubits differs between GHZ and W."
   ]
  },
  {
   "cell_type": "markdown",
   "id": "34c01a0f",
   "metadata": {},
   "source": [
    "## Lab 1.3 — Quantum Teleportation (complete, with classical correction)\n",
    "\n",
    "**Objective:** Teleport an arbitrary single-qubit state from qubit 0 to qubit 2 using an entangled pair and two classical bits. We'll demonstrate the full flow and verify by statevector comparison (deterministic on simulator)."
   ]
  },
  {
   "cell_type": "markdown",
   "id": "da9909e8-662a-4679-9430-0f8f6c1223e8",
   "metadata": {},
   "source": [
    "## Quantum Teleportation\n",
    "\n",
    "**Explanation:** This demonstrates teleporting a qubit state using entanglement and classical communication. The sender qubit is entangled with a pair shared with the receiver. Bell measurements are performed, and measurement results sent classically allow corrective operations on the receiver. Verification confirms the original state is reconstructed. It teaches the combination of quantum and classical processes."
   ]
  },
  {
   "cell_type": "code",
   "execution_count": 29,
   "id": "c2c75765",
   "metadata": {},
   "outputs": [
    {
     "name": "stdout",
     "output_type": "stream",
     "text": [
      "Original single-qubit statevector:\n",
      "[0.70710678+0.j  0.5       +0.5j]\n",
      "\n",
      "Teleportation circuit:\n",
      "     ┌───┐┌───┐     ┌───┐┌─┐\n",
      "q_0: ┤ H ├┤ T ├──■──┤ H ├┤M├\n",
      "     ├───┤└───┘┌─┴─┐└┬─┬┘└╥┘\n",
      "q_1: ┤ H ├──■──┤ X ├─┤M├──╫─\n",
      "     └───┘┌─┴─┐└───┘ └╥┘  ║ \n",
      "q_2: ─────┤ X ├───────╫───╫─\n",
      "          └───┘       ║   ║ \n",
      "c: 2/═════════════════╩═══╩═\n",
      "                      1   0 \n",
      "\n",
      "Measurement results (sender bits):\n",
      "{'01': 260, '00': 261, '10': 254, '11': 249}\n",
      "\n",
      "Receiver qubit density matrix:\n",
      "[[0.5       +0.00000000e+00j 0.35355339-3.53553391e-01j]\n",
      " [0.35355339+3.53553391e-01j 0.5       -6.93334780e-33j]]\n",
      "\n",
      "Fidelity between original and teleported state: 1.000000\n"
     ]
    }
   ],
   "source": [
    "# Quantum Teleportation (Qiskit ≥ 1.0) — Corrected\n",
    "\n",
    "from qiskit import QuantumCircuit, transpile\n",
    "from qiskit_aer import AerSimulator\n",
    "from qiskit.visualization import plot_histogram, plot_bloch_multivector\n",
    "from qiskit.quantum_info import Statevector, partial_trace, state_fidelity, DensityMatrix\n",
    "import matplotlib.pyplot as plt\n",
    "\n",
    "# --- Prepare an arbitrary single-qubit state (H then T) ---\n",
    "prep = QuantumCircuit(1)\n",
    "prep.h(0)\n",
    "prep.t(0)\n",
    "state = Statevector.from_instruction(prep)\n",
    "print(\"Original single-qubit statevector:\")\n",
    "print(state.data)\n",
    "\n",
    "# --- Build teleportation circuit (3 qubits, 2 classical bits) ---\n",
    "qc_tel = QuantumCircuit(3, 2)\n",
    "qc_tel.h(0)\n",
    "qc_tel.t(0)\n",
    "qc_tel.h(1)\n",
    "qc_tel.cx(1, 2)\n",
    "qc_tel.cx(0, 1)\n",
    "qc_tel.h(0)\n",
    "qc_tel.measure(0, 0)\n",
    "qc_tel.measure(1, 1)\n",
    "\n",
    "print(\"\\nTeleportation circuit:\")\n",
    "print(qc_tel.draw())\n",
    "\n",
    "# --- Simulate circuit with qasm simulator ---\n",
    "sim = AerSimulator()\n",
    "compiled_circuit = transpile(qc_tel, sim)\n",
    "job = sim.run(compiled_circuit, shots=1024)\n",
    "result = job.result()\n",
    "counts = result.get_counts()\n",
    "print(\"\\nMeasurement results (sender bits):\")\n",
    "print(counts)\n",
    "\n",
    "plot_histogram(counts)\n",
    "plt.show()\n",
    "\n",
    "# --- Statevector verification (no measurement, apply corrections) ---\n",
    "qc_verify = QuantumCircuit(3)\n",
    "qc_verify.h(0)\n",
    "qc_verify.t(0)\n",
    "qc_verify.h(1)\n",
    "qc_verify.cx(1, 2)\n",
    "qc_verify.cx(0, 1)\n",
    "qc_verify.h(0)\n",
    "qc_verify.cx(1, 2)  # correction X\n",
    "qc_verify.cz(0, 2)  # correction Z\n",
    "\n",
    "# Full 3-qubit statevector\n",
    "sv_final = Statevector.from_instruction(qc_verify)\n",
    "\n",
    "# Reduce to receiver qubit (qubit 2) → returns DensityMatrix\n",
    "receiver_rho = partial_trace(sv_final, [0, 1])\n",
    "print(\"\\nReceiver qubit density matrix:\")\n",
    "print(receiver_rho.data)\n",
    "\n",
    "# Compute fidelity with original state\n",
    "fidelity = state_fidelity(DensityMatrix(state), receiver_rho)\n",
    "print(f\"\\nFidelity between original and teleported state: {fidelity:.6f}\")\n",
    "\n",
    "# Optional: visualize receiver qubit on Bloch sphere\n",
    "# Can pass DensityMatrix directly\n",
    "plot_bloch_multivector(receiver_rho)\n",
    "plt.show()"
   ]
  },
  {
   "cell_type": "markdown",
   "id": "74fd356a",
   "metadata": {},
   "source": [
    "**Instructor note:** For clarity in class, demonstrate one branch explicitly: if measurement results are `00` then no correction; if `10` apply Z; if `01` apply X; if `11` apply X and Z (or Z and X). Show how qubit 2 recovers the original state."
   ]
  },
  {
   "cell_type": "markdown",
   "id": "fa07dda0",
   "metadata": {},
   "source": [
    "## Lab 1.4 — Bloch-sphere visualization & measurement in different bases\n",
    "\n",
    "**Objective:** Visualize single-qubit states on the Bloch sphere and perform measurements in X and Y bases.\n"
   ]
  },
  {
   "cell_type": "markdown",
   "id": "2b2d9f53-7336-4cd6-9b6d-c013b5cb90e5",
   "metadata": {},
   "source": [
    "## Bloch Sphere Visualization and X-Basis Measurement\n",
    "\n",
    "**Explanation:** An arbitrary qubit state is visualized on the Bloch sphere, showing its 3D orientation. Measuring in the X-basis involves rotating the qubit to the X-axis before measurement. This block helps students connect mathematical qubit descriptions to visual and probabilistic intuition."
   ]
  },
  {
   "cell_type": "code",
   "execution_count": 30,
   "id": "447518cf",
   "metadata": {},
   "outputs": [
    {
     "name": "stdout",
     "output_type": "stream",
     "text": [
      "Statevector data: [0.92387953+0.j         0.19134172+0.33141357j]\n",
      "X-basis measurement counts (|+> or |->): {'1': 336, '0': 688}\n"
     ]
    }
   ],
   "source": [
    "# Bloch sphere via Statevector (works in Jupyter)\n",
    "from qiskit.quantum_info import Statevector\n",
    "from qiskit import QuantumCircuit, transpile\n",
    "from qiskit_aer import AerSimulator\n",
    "from qiskit.visualization import plot_bloch_multivector\n",
    "import math\n",
    "\n",
    "# Prepare an arbitrary single-qubit state: cos(theta/2)|0> + e^{i phi} sin(theta/2)|1>\n",
    "theta = math.pi / 4\n",
    "phi = math.pi / 3\n",
    "qc_b = QuantumCircuit(1)\n",
    "qc_b.u(theta, phi, 0, 0)  # u(theta, phi, lambda, qubit)\n",
    "\n",
    "# Compute statevector\n",
    "sv = Statevector.from_instruction(qc_b)\n",
    "print('Statevector data:', sv.data)\n",
    "\n",
    "# Bloch sphere visualization\n",
    "plot_bloch_multivector(sv)\n",
    "\n",
    "# --- Measure in X-basis: apply H before Z-measure ---\n",
    "qc_x = QuantumCircuit(1, 1)\n",
    "qc_x.u(theta, phi, 0, 0)  # prepare same state\n",
    "qc_x.h(0)                 # rotate to X-basis\n",
    "qc_x.measure(0, 0)\n",
    "\n",
    "# Run on AerSimulator\n",
    "sim = AerSimulator()\n",
    "compiled = transpile(qc_x, sim)\n",
    "job = sim.run(compiled, shots=1024)\n",
    "result = job.result()\n",
    "counts = result.get_counts()\n",
    "print('X-basis measurement counts (|+> or |->):', counts)"
   ]
  },
  {
   "cell_type": "markdown",
   "id": "2931844a",
   "metadata": {},
   "source": [
    "----\n",
    "\n",
    "**End of Module 1.**\n",
    "\n",
    "Exercises: expand interference experiments to 4 qubits, implement custom multi-qubit phase oracle, and prepare mixed states via partial trace (advanced)."
   ]
  }
 ],
 "metadata": {
  "kernelspec": {
   "display_name": "Python 3 (ipykernel)",
   "language": "python",
   "name": "python3"
  },
  "language_info": {
   "codemirror_mode": {
    "name": "ipython",
    "version": 3
   },
   "file_extension": ".py",
   "mimetype": "text/x-python",
   "name": "python",
   "nbconvert_exporter": "python",
   "pygments_lexer": "ipython3",
   "version": "3.12.3"
  }
 },
 "nbformat": 4,
 "nbformat_minor": 5
}
